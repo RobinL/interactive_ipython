{
 "cells": [
  {
   "cell_type": "markdown",
   "metadata": {},
   "source": [
    "#Examples of interactive coding"
   ]
  },
  {
   "cell_type": "code",
   "execution_count": 40,
   "metadata": {
    "collapsed": false
   },
   "outputs": [],
   "source": [
    "import antigravity\n",
    "\n",
    "#Uncomment the following line to see how antigravity works\n",
    "#??antigravity  "
   ]
  },
  {
   "cell_type": "code",
   "execution_count": 41,
   "metadata": {
    "collapsed": false
   },
   "outputs": [],
   "source": [
    "#Import the necessary function\n",
    "from IPython.html.widgets import interact, fixed;"
   ]
  },
  {
   "cell_type": "markdown",
   "metadata": {},
   "source": [
    "###Example 1:  Squaring a number "
   ]
  },
  {
   "cell_type": "code",
   "execution_count": 42,
   "metadata": {
    "collapsed": false
   },
   "outputs": [],
   "source": [
    "def square_number(x):\n",
    "    print(x**2)"
   ]
  },
  {
   "cell_type": "code",
   "execution_count": 43,
   "metadata": {
    "collapsed": false
   },
   "outputs": [
    {
     "name": "stdout",
     "output_type": "stream",
     "text": [
      "100\n"
     ]
    }
   ],
   "source": [
    "interact(square_number,x=10);"
   ]
  },
  {
   "cell_type": "markdown",
   "metadata": {},
   "source": [
    "###Example 2: Rending a string backwards"
   ]
  },
  {
   "cell_type": "code",
   "execution_count": 44,
   "metadata": {
    "collapsed": false
   },
   "outputs": [
    {
     "name": "stdout",
     "output_type": "stream",
     "text": [
      "sdrawkcab\n"
     ]
    }
   ],
   "source": [
    "def backwards(my_string):\n",
    "    print my_string[::-1]\n",
    "    \n",
    "interact(backwards, my_string=\"backwards\");"
   ]
  },
  {
   "cell_type": "markdown",
   "metadata": {},
   "source": [
    "###Example 3: A simple fuzzy matching algorithm "
   ]
  },
  {
   "cell_type": "code",
   "execution_count": 45,
   "metadata": {
    "collapsed": true
   },
   "outputs": [],
   "source": [
    "from fuzzywuzzy import fuzz #The 'ratio' function is a kind of 'similarity score'"
   ]
  },
  {
   "cell_type": "code",
   "execution_count": 46,
   "metadata": {
    "collapsed": false
   },
   "outputs": [],
   "source": [
    "list_of_possible_matches = [\"apple\", \"pear\", \"banana\", \"orange\", \"grapefruit\", \"lemon\", \"blueberry\", \"raspberry\", \"cherry\"]\n",
    "\n",
    "def fuzzy_match_against_list(term=\"\", list_of_terms=[]):\n",
    "    scores = [(fuzz.ratio(term,i),i) for i in list_of_terms]\n",
    "    scores.sort(reverse=True)\n",
    "    print \"Best match is {} with a match ratio (score) of {:.0%}\".format(scores[0][1], scores[0][0]/100.0)\n",
    "    print \"Full list in order of match quality: {}\".format(([s[1] for s in scores]))"
   ]
  },
  {
   "cell_type": "code",
   "execution_count": 47,
   "metadata": {
    "collapsed": false
   },
   "outputs": [
    {
     "name": "stdout",
     "output_type": "stream",
     "text": [
      "Best match is cherry with a match ratio (score) of 73%\n",
      "Full list in order of match quality: ['cherry', 'raspberry', 'blueberry', 'pear', 'grapefruit', 'lemon', 'apple', 'orange', 'banana']\n"
     ]
    }
   ],
   "source": [
    "interact(fuzzy_match_against_list,term=\"berry\",list_of_terms = fixed(list_of_possible_matches))  #'fixed', from IPython.html.widgets, can be used to set an argument that cannot be changed;"
   ]
  },
  {
   "cell_type": "markdown",
   "metadata": {},
   "source": [
    "### Example 4:  Interactive charting demo in Python (i.e. charts generated in .png format by Python) "
   ]
  },
  {
   "cell_type": "code",
   "execution_count": 48,
   "metadata": {
    "collapsed": false
   },
   "outputs": [],
   "source": [
    "%matplotlib inline\n",
    "import numpy as np\n",
    "import matplotlib.pyplot as plt\n",
    "\n",
    "# Use seaborn styles for nice-looking plots.  Comment out the next line if you don't have seaborn installed\n",
    "import seaborn; seaborn.set()"
   ]
  },
  {
   "cell_type": "code",
   "execution_count": 49,
   "metadata": {
    "collapsed": false
   },
   "outputs": [
    {
     "data": {
      "image/png": "[encoded data removed]",
      "text/plain": [
       "<matplotlib.figure.Figure at 0x1a16a748>"
      ]
     },
     "metadata": {},
     "output_type": "display_data"
    }
   ],
   "source": [
    "from IPython.html import widgets\n",
    "\n",
    "def sin_plot(ratio=1):\n",
    "    x = np.linspace(0, 20, 1000)  # 100 evenly-spaced values from 0 to 20\n",
    "    y = np.sin(x*ratio)\n",
    "    plt.plot(x,y)\n",
    "    \n",
    "interact(sin_plot,ratio=widgets.FloatSlider(min=0.01,max=3,step=0.01,value=1));"
   ]
  },
  {
   "cell_type": "markdown",
   "metadata": {},
   "source": [
    "###Example 5:  Simulating a random walk"
   ]
  },
  {
   "cell_type": "code",
   "execution_count": 50,
   "metadata": {
    "collapsed": false
   },
   "outputs": [
    {
     "data": {
      "text/plain": [
       "<function normal>"
      ]
     },
     "execution_count": 50,
     "metadata": {},
     "output_type": "execute_result"
    }
   ],
   "source": [
    "np.random.normal"
   ]
  },
  {
   "cell_type": "code",
   "execution_count": 51,
   "metadata": {
    "collapsed": false
   },
   "outputs": [
    {
     "data": {
      "image/png": "[encoded data removed]",
      "text/plain": [
       "<matplotlib.figure.Figure at 0x198b09b0>"
      ]
     },
     "metadata": {},
     "output_type": "display_data"
    }
   ],
   "source": [
    "import numpy as np\n",
    "def randomwalk(N=100):\n",
    "    return np.cumsum(np.random.normal(0,1,N))\n",
    "\n",
    "def rw_plot(points=100):\n",
    "    y = randomwalk(N=points)\n",
    "    x = np.linspace(0,points,points)\n",
    "    plt.plot(x,y)\n",
    "\n",
    "interact(rw_plot,points=widgets.IntSlider(min=1,max=10000,step=1,value=100));  "
   ]
  },
  {
   "cell_type": "markdown",
   "metadata": {
    "collapsed": false
   },
   "source": [
    "### Example 6: Simulating a regression model\n",
    "\n",
    "Equation is of form $y = \\alpha + \\beta_1 x_1 + \\beta_2x_1 + e$ with $e\\sim  N(0,\\sigma^2)$\n",
    " \n",
    "Actual equation is $y = 5 + 2x_1 + 0.5x_2 + e$ with $e\\sim  N(0,1)$"
   ]
  },
  {
   "cell_type": "code",
   "execution_count": 52,
   "metadata": {
    "collapsed": false
   },
   "outputs": [
    {
     "data": {
      "text/html": [
       "<table class=\"simpletable\">\n",
       "<caption>OLS Regression Results</caption>\n",
       "<tr>\n",
       "  <th>Dep. Variable:</th>            <td>y</td>        <th>  R-squared:         </th> <td>   0.764</td>\n",
       "</tr>\n",
       "<tr>\n",
       "  <th>Model:</th>                   <td>OLS</td>       <th>  Adj. R-squared:    </th> <td>   0.759</td>\n",
       "</tr>\n",
       "<tr>\n",
       "  <th>Method:</th>             <td>Least Squares</td>  <th>  F-statistic:       </th> <td>   157.2</td>\n",
       "</tr>\n",
       "<tr>\n",
       "  <th>Date:</th>             <td>Sat, 26 Sep 2015</td> <th>  Prob (F-statistic):</th> <td>3.68e-31</td>\n",
       "</tr>\n",
       "<tr>\n",
       "  <th>Time:</th>                 <td>16:14:30</td>     <th>  Log-Likelihood:    </th> <td> -144.78</td>\n",
       "</tr>\n",
       "<tr>\n",
       "  <th>No. Observations:</th>      <td>   100</td>      <th>  AIC:               </th> <td>   295.6</td>\n",
       "</tr>\n",
       "<tr>\n",
       "  <th>Df Residuals:</th>          <td>    97</td>      <th>  BIC:               </th> <td>   303.4</td>\n",
       "</tr>\n",
       "<tr>\n",
       "  <th>Df Model:</th>              <td>     2</td>      <th>                     </th>     <td> </td>   \n",
       "</tr>\n",
       "<tr>\n",
       "  <th>Covariance Type:</th>      <td>nonrobust</td>    <th>                     </th>     <td> </td>   \n",
       "</tr>\n",
       "</table>\n",
       "<table class=\"simpletable\">\n",
       "<tr>\n",
       "      <td></td>         <th>coef</th>     <th>std err</th>      <th>t</th>      <th>P>|t|</th> <th>[95.0% Conf. Int.]</th> \n",
       "</tr>\n",
       "<tr>\n",
       "  <th>Intercept</th> <td>    5.0067</td> <td>    0.105</td> <td>   47.726</td> <td> 0.000</td> <td>    4.799     5.215</td>\n",
       "</tr>\n",
       "<tr>\n",
       "  <th>x1</th>        <td>    1.9764</td> <td>    0.113</td> <td>   17.446</td> <td> 0.000</td> <td>    1.752     2.201</td>\n",
       "</tr>\n",
       "<tr>\n",
       "  <th>x2</th>        <td>   -0.4120</td> <td>    0.119</td> <td>   -3.471</td> <td> 0.001</td> <td>   -0.648    -0.176</td>\n",
       "</tr>\n",
       "</table>\n",
       "<table class=\"simpletable\">\n",
       "<tr>\n",
       "  <th>Omnibus:</th>       <td> 0.223</td> <th>  Durbin-Watson:     </th> <td>   1.965</td>\n",
       "</tr>\n",
       "<tr>\n",
       "  <th>Prob(Omnibus):</th> <td> 0.894</td> <th>  Jarque-Bera (JB):  </th> <td>   0.086</td>\n",
       "</tr>\n",
       "<tr>\n",
       "  <th>Skew:</th>          <td> 0.071</td> <th>  Prob(JB):          </th> <td>   0.958</td>\n",
       "</tr>\n",
       "<tr>\n",
       "  <th>Kurtosis:</th>      <td> 3.016</td> <th>  Cond. No.          </th> <td>    1.16</td>\n",
       "</tr>\n",
       "</table>"
      ],
      "text/plain": [
       "<class 'statsmodels.iolib.summary.Summary'>\n",
       "\"\"\"\n",
       "                            OLS Regression Results                            \n",
       "==============================================================================\n",
       "Dep. Variable:                      y   R-squared:                       0.764\n",
       "Model:                            OLS   Adj. R-squared:                  0.759\n",
       "Method:                 Least Squares   F-statistic:                     157.2\n",
       "Date:                Sat, 26 Sep 2015   Prob (F-statistic):           3.68e-31\n",
       "Time:                        16:14:30   Log-Likelihood:                -144.78\n",
       "No. Observations:                 100   AIC:                             295.6\n",
       "Df Residuals:                      97   BIC:                             303.4\n",
       "Df Model:                           2                                         \n",
       "Covariance Type:            nonrobust                                         \n",
       "==============================================================================\n",
       "                 coef    std err          t      P>|t|      [95.0% Conf. Int.]\n",
       "------------------------------------------------------------------------------\n",
       "Intercept      5.0067      0.105     47.726      0.000         4.799     5.215\n",
       "x1             1.9764      0.113     17.446      0.000         1.752     2.201\n",
       "x2            -0.4120      0.119     -3.471      0.001        -0.648    -0.176\n",
       "==============================================================================\n",
       "Omnibus:                        0.223   Durbin-Watson:                   1.965\n",
       "Prob(Omnibus):                  0.894   Jarque-Bera (JB):                0.086\n",
       "Skew:                           0.071   Prob(JB):                        0.958\n",
       "Kurtosis:                       3.016   Cond. No.                         1.16\n",
       "==============================================================================\n",
       "\n",
       "Warnings:\n",
       "[1] Standard Errors assume that the covariance matrix of the errors is correctly specified.\n",
       "\"\"\""
      ]
     },
     "metadata": {},
     "output_type": "display_data"
    },
    {
     "data": {
      "text/plain": [
       "<function __main__.sim_regression>"
      ]
     },
     "execution_count": 52,
     "metadata": {},
     "output_type": "execute_result"
    }
   ],
   "source": [
    "import pandas as pd\n",
    "import statsmodels.formula.api as sm\n",
    "from IPython.display import display\n",
    "\n",
    "def sim_regression(num_points):\n",
    "    df = pd.DataFrame(np.random.multivariate_normal([0,0,0],[[1,0,0],[0,1,0],[0,0,1]], num_points), columns=['x1', 'x2', 'e'])\n",
    "    df['y'] = 5 + 2*df['x1'] - 0.5*df['x2'] + df['e']\n",
    "\n",
    "    result = sm.ols(formula=\"y ~ x1 + x2\", data=df).fit()\n",
    "    display(result.summary())\n",
    "    \n",
    "interact(sim_regression, num_points=widgets.IntSlider(min=3,max=1000,step=1,value=100))"
   ]
  },
  {
   "cell_type": "markdown",
   "metadata": {},
   "source": [
    "### Example 7: Customised javascript visualisations"
   ]
  },
  {
   "cell_type": "code",
   "execution_count": 59,
   "metadata": {
    "collapsed": false
   },
   "outputs": [
    {
     "data": {
      "application/javascript": [
       "$.getScript('https://cdnjs.cloudflare.com/ajax/libs/d3/3.5.6/d3.min.js')"
      ],
      "text/plain": [
       "<IPython.core.display.Javascript object>"
      ]
     },
     "execution_count": 59,
     "metadata": {},
     "output_type": "execute_result"
    }
   ],
   "source": [
    "from IPython.display import Javascript\n",
    "Javascript(\"\"\"$.getScript('https://cdnjs.cloudflare.com/ajax/libs/d3/3.5.6/d3.min.js')\"\"\")"
   ]
  },
  {
   "cell_type": "code",
   "execution_count": 65,
   "metadata": {
    "collapsed": true
   },
   "outputs": [],
   "source": [
    "js = \"\"\"\n",
    "\n",
    "var e = element.get(0)\n",
    "var svg = d3.select(e).append(\"svg\")\n",
    "    .attr(\"height\",400)\n",
    "    .attr(\"width\",2000)\n",
    "    \n",
    "var squares = {squares}\n",
    "\n",
    "function my_sum(my_array) {{\n",
    "    var sum = my_array.reduce(add, 0);\n",
    "    function add(a, b) {{\n",
    "        return Math.abs(a) + Math.abs(b);\n",
    "    }}\n",
    "    return sum\n",
    "}}\n",
    "\n",
    "var my_max = Math.max.apply(Math, squares);\n",
    "\n",
    "var color = d3.scale.linear()\n",
    "    .domain([0,my_max*3/4,my_max])\n",
    "    .range([\"red\", \"purple\",\"blue\"]);\n",
    "\n",
    "svg.selectAll(\"hello\")\n",
    "    .data(squares)\n",
    "    .enter()\n",
    "    .append(\"rect\")\n",
    "    .attr(\"width\",function(d) {{return Math.abs(d)}})\n",
    "    .attr(\"height\",function(d){{return Math.abs(d)}})\n",
    "    .attr(\"fill\", function(d) {{return color(Math.abs(d)) }})\n",
    "    .attr(\"x\", function(d,i){{return 10 + my_sum(squares.slice(0,i)) +i*5 }})\n",
    "    .attr(\"y\",function(d,i){{return 100 + d*2}})\n",
    "\"\"\""
   ]
  },
  {
   "cell_type": "code",
   "execution_count": 66,
   "metadata": {
    "collapsed": false
   },
   "outputs": [
    {
     "data": {
      "application/javascript": [
       "\n",
       "\n",
       "var e = element.get(0)\n",
       "var svg = d3.select(e).append(\"svg\")\n",
       "    .attr(\"height\",400)\n",
       "    .attr(\"width\",2000)\n",
       "    \n",
       "var squares = [0.0, 1.0373510663612788, 2.0723944637584726, 3.102827656818447, 4.126358365929897, 5.140709666599465, 6.143625054649214, 7.132873465987482, 8.106254239786276, 9.061602014024224, 9.996791542504534, 10.909742422632181, 11.798423723432958, 12.660858503519009, 13.495128208950316, 14.29937694120869, 15.071815585789867, 15.810725792229324, 16.514463796707908, 17.181464078733615, 17.81024284376497, 18.399401324028563, 18.947628890187882, 19.453705966941275, 19.916506746063025, 20.335001690852238, 20.708259826418125, 21.035450810706802, 21.315846781662454, 21.548823976413647, 21.733864118882884, 21.870555572732446, 21.958594257081774, 21.99778432295929, 21.98803858898383, 21.92937873530645, 21.82193525538126, 21.665947165672456, 21.461761473943437, 21.209832407310735, 20.910720401780132, 20.5650908555127, 20.173712648594325, 19.737456432601515, 19.257292693768566]\n",
       "\n",
       "function my_sum(my_array) {\n",
       "    var sum = my_array.reduce(add, 0);\n",
       "    function add(a, b) {\n",
       "        return Math.abs(a) + Math.abs(b);\n",
       "    }\n",
       "    return sum\n",
       "}\n",
       "\n",
       "var my_max = Math.max.apply(Math, squares);\n",
       "\n",
       "var color = d3.scale.linear()\n",
       "    .domain([0,my_max*3/4,my_max])\n",
       "    .range([\"red\", \"purple\",\"blue\"]);\n",
       "\n",
       "svg.selectAll(\"hello\")\n",
       "    .data(squares)\n",
       "    .enter()\n",
       "    .append(\"rect\")\n",
       "    .attr(\"width\",function(d) {return Math.abs(d)})\n",
       "    .attr(\"height\",function(d){return Math.abs(d)})\n",
       "    .attr(\"fill\", function(d) {return color(Math.abs(d)) })\n",
       "    .attr(\"x\", function(d,i){return 10 + my_sum(squares.slice(0,i)) +i*5 })\n",
       "    .attr(\"y\",function(d,i){return 100 + d*2})\n"
      ],
      "text/plain": [
       "<IPython.core.display.Javascript object>"
      ]
     },
     "metadata": {},
     "output_type": "display_data"
    }
   ],
   "source": [
    "import math\n",
    "\n",
    "def f(square_size, num_squares,step):\n",
    "\n",
    "    squares = range(num_squares)\n",
    "    \n",
    "    squares = [math.sin(i/step)*square_size for i in squares]\n",
    "\n",
    "    \n",
    "    display(Javascript(js.format(squares=squares)))\n",
    "\n",
    "interact(f,square_size=40,num_squares=30,step=10.0);"
   ]
  },
  {
   "cell_type": "code",
   "execution_count": null,
   "metadata": {
    "collapsed": true
   },
   "outputs": [],
   "source": []
  }
 ],
 "metadata": {
  "kernelspec": {
   "display_name": "Python 2",
   "language": "python",
   "name": "python2"
  },
  "language_info": {
   "codemirror_mode": {
    "name": "ipython",
    "version": 2
   },
   "file_extension": ".py",
   "mimetype": "text/x-python",
   "name": "python",
   "nbconvert_exporter": "python",
   "pygments_lexer": "ipython2",
   "version": "2.7.6"
  }
 },
 "nbformat": 4,
 "nbformat_minor": 0
}
